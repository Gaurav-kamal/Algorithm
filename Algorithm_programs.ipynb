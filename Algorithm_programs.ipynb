{
  "nbformat": 4,
  "nbformat_minor": 0,
  "metadata": {
    "colab": {
      "provenance": []
    },
    "kernelspec": {
      "name": "python3",
      "display_name": "Python 3"
    },
    "language_info": {
      "name": "python"
    }
  },
  "cells": [
    {
      "cell_type": "markdown",
      "source": [
        "###USER DEFINED FUNCTION\n",
        "###1. Build a python discount program that gives a discount of 5% on every purchase exceeding Rs. 1000/-. Calculate the total amount payable."
      ],
      "metadata": {
        "id": "Yc-GxthgNajF"
      }
    },
    {
      "cell_type": "code",
      "execution_count": null,
      "metadata": {
        "colab": {
          "base_uri": "https://localhost:8080/"
        },
        "id": "RUe3cgJbaDnW",
        "outputId": "8b2ee94c-045f-499b-c218-94a65fced5dc"
      },
      "outputs": [
        {
          "output_type": "stream",
          "name": "stdout",
          "text": [
            "Enter amount: 1100\n",
            "After 5% discount amount payable is= 1045.0\n"
          ]
        }
      ],
      "source": [
        "def dis(x):\n",
        "  d=x-5/100*x\n",
        "  print(\"After 5% discount amount payable is=\",d)\n",
        "\n",
        "amount=int(input(\"Enter amount: \"))\n",
        "if amount>1000:\n",
        "    dis(amount)\n",
        "else:\n",
        "    print(\"Amount payable is =\",amount)"
      ]
    },
    {
      "cell_type": "markdown",
      "source": [
        "###2. Write a python program to make a simple calculator with four basic mathematical operations."
      ],
      "metadata": {
        "id": "XbZttf04Nz9d"
      }
    },
    {
      "cell_type": "code",
      "source": [
        "def cal(x,y):\n",
        "    print(\"division is=\",x/y)\n",
        "    print(\"Addition is=\",x+y)\n",
        "    print(\"multiplication is=\",x*y)\n",
        "    print(\"subtraction is=\",x-y)\n",
        "\n",
        "a=int(input(\"Enter first number\"))\n",
        "b=int(input(\"Enter second number\"))\n",
        "cal(a,b)\n"
      ],
      "metadata": {
        "colab": {
          "base_uri": "https://localhost:8080/"
        },
        "id": "i6FEZ5vnbTpm",
        "outputId": "3fde1e82-e97e-4da2-c22e-673c7964a826"
      },
      "execution_count": null,
      "outputs": [
        {
          "output_type": "stream",
          "name": "stdout",
          "text": [
            "Enter first number60\n",
            "Enter second number10\n",
            "division is= 6.0\n",
            "Addition is= 70\n",
            "multiplication is= 600\n",
            "subtraction is= 50\n"
          ]
        }
      ]
    },
    {
      "cell_type": "markdown",
      "source": [
        "###3. Enter marks for any 5 subjects for a particular student. Calculate total marks and percentage using formula:\n",
        "###Result= total marks/5*100\n",
        "###Grade the result as follows:-\n",
        "###Result >90 - A+\n",
        "###       >80 - A\n",
        "###       >70 - B+\n",
        "###       >60 - B\n",
        "###       >50 - C+\n",
        "###       >40 - C\n",
        "###       >33 - D\n",
        "###       else Fail"
      ],
      "metadata": {
        "id": "btY29315OMHh"
      }
    },
    {
      "cell_type": "code",
      "source": [
        "name=(input(\"Enter your name \"))\n",
        "m=int(input(\"Enter maths marks \"))\n",
        "n=int(input(\"Enter science marks \"))\n",
        "o=int(input(\"Enter english marks \"))\n",
        "q=int(input(\"Enter hindi marks \"))\n",
        "r=int(input(\"Enter computer marks \"))\n",
        "\n",
        "def grade(a,b,c,d,e):\n",
        "  total= a+b+c+d+e\n",
        "  p= (total)/500*100\n",
        "  print(\"Total marks : \", total)\n",
        "  print(\"Percentage : \", p)\n",
        "  if p>90:\n",
        "    print(\"Grade: A+\")\n",
        "  elif p>80:\n",
        "    print(\"Grade: A\")\n",
        "  elif p>70:\n",
        "    print(\"Grade: B+\")\n",
        "  elif p>60:\n",
        "    print(\"Grade: B\")\n",
        "  elif p>50:\n",
        "    print(\"Grade: C+\")\n",
        "  elif p>40:\n",
        "    print(\"Grade: C\")\n",
        "  elif p>30:\n",
        "    print(\"Grade: D\")\n",
        "  else :\n",
        "    print(\"Grade: fail\")\n",
        "\n",
        "grade(m,n,o,q,r)"
      ],
      "metadata": {
        "colab": {
          "base_uri": "https://localhost:8080/"
        },
        "id": "Apxd2nNfbhh3",
        "outputId": "30006f0a-b60b-476e-a122-fab7a48c0756"
      },
      "execution_count": null,
      "outputs": [
        {
          "output_type": "stream",
          "name": "stdout",
          "text": [
            "Enter your name gaurav\n",
            "Enter maths marks 45\n",
            "Enter science marks 95\n",
            "Enter english marks 85\n",
            "Enter hindi marks 72\n",
            "Enter computer marks 69\n",
            "Total marks :  366\n",
            "Percentage :  73.2\n",
            "Grade: B+\n"
          ]
        }
      ]
    },
    {
      "cell_type": "markdown",
      "source": [
        "###4. Write a python program to check weather a number is even or odd."
      ],
      "metadata": {
        "id": "nQhfZ1x6OpR1"
      }
    },
    {
      "cell_type": "code",
      "source": [
        "def eo(a):\n",
        "  if a%2==0:\n",
        "    print(\"Number is even\")\n",
        "  else:\n",
        "    print(\"Number is odd\")\n",
        "\n",
        "x=int(input(\"Enter any number \"))\n",
        "eo(x)"
      ],
      "metadata": {
        "colab": {
          "base_uri": "https://localhost:8080/"
        },
        "id": "pjuMPmhGOC-V",
        "outputId": "fff8e0bf-1214-4f6a-ce6b-a085299a2987"
      },
      "execution_count": null,
      "outputs": [
        {
          "output_type": "stream",
          "name": "stdout",
          "text": [
            "Enter any number 0\n",
            "Number is even\n"
          ]
        }
      ]
    },
    {
      "cell_type": "markdown",
      "source": [
        "###5. Write a python program to check weather it is a cold day, hot day or a pleasent day"
      ],
      "metadata": {
        "id": "rDZge5dpPNAA"
      }
    },
    {
      "cell_type": "code",
      "source": [
        "def tempcheck(a):\n",
        "  if a>=30:\n",
        "    print(\"It is a hot day\")\n",
        "  elif a<=10:\n",
        "    print(\"It is a cold day\")\n",
        "  else:\n",
        "    print(\"It is a pleasent day\")\n",
        "\n",
        "temp=int(input(\"Enter temperature: \"))\n",
        "tempcheck(temp)"
      ],
      "metadata": {
        "colab": {
          "base_uri": "https://localhost:8080/"
        },
        "id": "uBpytGicToVE",
        "outputId": "73378297-3b24-4f1d-eb11-4facbc770387"
      },
      "execution_count": null,
      "outputs": [
        {
          "output_type": "stream",
          "name": "stdout",
          "text": [
            "Enter temperature: 5\n",
            "It is a cold day\n"
          ]
        }
      ]
    },
    {
      "cell_type": "markdown",
      "source": [
        "###6. Write a program to find the area & perimeter of a rectangle."
      ],
      "metadata": {
        "id": "z0NbkXuvPtqk"
      }
    },
    {
      "cell_type": "code",
      "source": [
        "def apr(l,b):\n",
        "  area=l*b\n",
        "  print(\"Area of rectangle is:\",area)\n",
        "  peri=2*(l+b)\n",
        "  print(\"Perimeter of rectangle is:\",peri)\n",
        "\n",
        "x=int(input(\"Enter length: \"))\n",
        "y=int(input(\"Enter width: \"))\n",
        "apr(x,y)"
      ],
      "metadata": {
        "id": "oHy_RK2kW9-E",
        "colab": {
          "base_uri": "https://localhost:8080/"
        },
        "outputId": "0ed61e7d-a776-4831-8b41-d9120d77c71d"
      },
      "execution_count": null,
      "outputs": [
        {
          "output_type": "stream",
          "name": "stdout",
          "text": [
            "Enter length: 10\n",
            "Enter width: 13\n",
            "Area of rectangle is: 130\n",
            "Perimeter of rectangle is: 46\n"
          ]
        }
      ]
    },
    {
      "cell_type": "markdown",
      "source": [
        "###7. Write a program to find the area and perimeter of a square."
      ],
      "metadata": {
        "id": "ctQ6_mdRP9hE"
      }
    },
    {
      "cell_type": "code",
      "source": [
        "def aps(a):\n",
        "  area=a*a\n",
        "  print(\"Area of square is:\",area)\n",
        "  peri=4*a\n",
        "  print(\"Perimeter of square is:\",peri)\n",
        "\n",
        "x=int(input(\"Enter side of a square\"))\n",
        "aps(x)"
      ],
      "metadata": {
        "id": "Dnf-rOPPqT-a",
        "colab": {
          "base_uri": "https://localhost:8080/"
        },
        "outputId": "eb80ffd5-cf50-4230-b108-4a0f732befc3"
      },
      "execution_count": null,
      "outputs": [
        {
          "output_type": "stream",
          "name": "stdout",
          "text": [
            "Enter side of a square5\n",
            "Area of square is: 25\n",
            "Perimeter of square is: 20\n"
          ]
        }
      ]
    },
    {
      "cell_type": "markdown",
      "source": [
        "###8. Write a program to add digits of a two digit number."
      ],
      "metadata": {
        "id": "4GG_fCtfQWid"
      }
    },
    {
      "cell_type": "code",
      "source": [
        "def getsum(a):\n",
        "  q=a//10\n",
        "  r=a%10\n",
        "  sum=q+r\n",
        "  print(\"Sum of the digits:\",sum)\n",
        "\n",
        "digit=int(input(\"Enter two digit number\"))\n",
        "getsum(digit)"
      ],
      "metadata": {
        "colab": {
          "base_uri": "https://localhost:8080/"
        },
        "id": "Bq9hCgxA2m_m",
        "outputId": "fa572db2-1b2b-49ef-fa01-ec05ddbfb24f"
      },
      "execution_count": null,
      "outputs": [
        {
          "output_type": "stream",
          "name": "stdout",
          "text": [
            "Enter two digit number24\n",
            "Sum of the digits: 6\n"
          ]
        }
      ]
    },
    {
      "cell_type": "markdown",
      "source": [
        "###9. Write a program to add digits of a three digit number."
      ],
      "metadata": {
        "id": "G2vNAgpvQlnt"
      }
    },
    {
      "cell_type": "code",
      "source": [
        "def getsum(a):\n",
        "  q=a//100\n",
        "  r=a%100\n",
        "  result=q+r\n",
        "  q1=result//10\n",
        "  r1=result%10\n",
        "  sum=q1+r1\n",
        "  print(\"Sum of the digits:\",sum)\n",
        "\n",
        "digit=int(input(\"Enter three digit number \"))\n",
        "getsum(digit)"
      ],
      "metadata": {
        "colab": {
          "base_uri": "https://localhost:8080/"
        },
        "id": "LgzW8SKO3Gun",
        "outputId": "ee4b78a5-a52e-474b-edee-b319547cff16"
      },
      "execution_count": null,
      "outputs": [
        {
          "output_type": "stream",
          "name": "stdout",
          "text": [
            "Enter two digit number634\n",
            "Sum of the digits: 4\n"
          ]
        }
      ]
    },
    {
      "cell_type": "markdown",
      "source": [
        "###10. Write a program to add digits of both two and three digits number with a single program"
      ],
      "metadata": {
        "id": "UxvzDTaXRNIE"
      }
    },
    {
      "cell_type": "code",
      "source": [
        "def getsum(z):\n",
        "  a=z//10\n",
        "  b=z%10\n",
        "  c=a%10\n",
        "  d=a//10\n",
        "  sum= d+c+b\n",
        "  print(\"Sum of the digits:\",sum)\n",
        "\n",
        "digit=int(input(\"Enter two or three digit number: \"))\n",
        "getsum(digit)"
      ],
      "metadata": {
        "colab": {
          "base_uri": "https://localhost:8080/"
        },
        "id": "d3OH8wGS6TXB",
        "outputId": "fb6eb83b-5672-46ab-db98-29934f17b8ce"
      },
      "execution_count": null,
      "outputs": [
        {
          "output_type": "stream",
          "name": "stdout",
          "text": [
            "Enter two or three digit number: 634\n",
            "Sum of the digits: 13\n"
          ]
        }
      ]
    },
    {
      "cell_type": "markdown",
      "source": [
        "###11. Write a program to swap digits of a number."
      ],
      "metadata": {
        "id": "bpsMP0L3Rlhz"
      }
    },
    {
      "cell_type": "code",
      "source": [
        "def swap(z):\n",
        "  a=z//10\n",
        "  b=z%10\n",
        "  c=a\n",
        "  a=b\n",
        "  b=c\n",
        "  x=a*10+b\n",
        "  print(\"Value of a is:\",a)\n",
        "  print(\"Value of b is:\",b)\n",
        "  print(\"swapped number is:\",x)\n",
        "\n",
        "digi=int(input(\"Enter two digit number: \"))\n",
        "swap(digi)"
      ],
      "metadata": {
        "colab": {
          "base_uri": "https://localhost:8080/"
        },
        "id": "0JKy5KnW9EpX",
        "outputId": "40b8a271-ace2-4ddd-b857-001fd0781448"
      },
      "execution_count": null,
      "outputs": [
        {
          "output_type": "stream",
          "name": "stdout",
          "text": [
            "Enter two digit number: 89\n",
            "Value of a is: 9\n",
            "Value of b is: 8\n",
            "swapped number is: 98\n"
          ]
        }
      ]
    },
    {
      "cell_type": "markdown",
      "source": [
        "###12. Write a program to find roots of a quadratic equation."
      ],
      "metadata": {
        "id": "-ttyYolbSOV6"
      }
    },
    {
      "cell_type": "code",
      "source": [
        "import math\n",
        "def roots(a,b,c):\n",
        "  d=b**2-4*a*c\n",
        "  if d<0:\n",
        "    print(\"No roots exist\")\n",
        "  else:\n",
        "    sr=math.sqrt(d)\n",
        "    x=((-b+sr)/2*a)\n",
        "    y=((-b-sr)/2*a)\n",
        "    print(\"Roots are:\",x,\",\",y)\n",
        "\n",
        "i=int(input(\"Enter the value of 'a': \"))\n",
        "j=int(input(\"Enter the value of 'b': \"))\n",
        "k=int(input(\"Enter the value of 'c': \"))\n",
        "roots(i,j,k)"
      ],
      "metadata": {
        "colab": {
          "base_uri": "https://localhost:8080/"
        },
        "id": "_UPEB1rPdy04",
        "outputId": "5295ccbe-3286-4758-da08-a8deaa934cf1"
      },
      "execution_count": null,
      "outputs": [
        {
          "output_type": "stream",
          "name": "stdout",
          "text": [
            "Enter the value of 'a': 1\n",
            "Enter the value of 'b': -2\n",
            "Enter the value of 'c': 1\n",
            "Roots are: 1.0 , 1.0\n"
          ]
        }
      ]
    },
    {
      "cell_type": "markdown",
      "source": [
        "###13. Give an array in python provide a code to swap two random elements from the array."
      ],
      "metadata": {
        "id": "4969OuB5Sdvv"
      }
    },
    {
      "cell_type": "code",
      "source": [
        "import array\n",
        "from array import *\n",
        "def swap(array,no1,no2):\n",
        "  array[no1],array[no2]=array[no2],array[no1]\n",
        "  print(array)\n",
        "\n",
        "x=int(input(\"Enter the index1 \"))\n",
        "y=int(input(\"Enter the index2 \"))\n",
        "a2=array('i',[121,232,343,454,565,676,787,898,909])\n",
        "swap(a2,x,y)"
      ],
      "metadata": {
        "colab": {
          "base_uri": "https://localhost:8080/"
        },
        "id": "OQhOOJOhfF68",
        "outputId": "8981d48b-c840-4ed1-b312-149e52416b9f"
      },
      "execution_count": null,
      "outputs": [
        {
          "output_type": "stream",
          "name": "stdout",
          "text": [
            "Enter the index1 2\n",
            "Enter the index2 5\n",
            "array('i', [121, 232, 676, 454, 565, 343, 787, 898, 909])\n"
          ]
        }
      ]
    },
    {
      "cell_type": "markdown",
      "source": [
        "###14. Write a program to swap three element of an array consequtively"
      ],
      "metadata": {
        "id": "BW11BVu5StDp"
      }
    },
    {
      "cell_type": "code",
      "source": [
        "import array\n",
        "from array import *\n",
        "def swap3(array,no1,no2,no3):\n",
        "  array[no1],array[no2],array[no3]=array[no3],array[no1],array[no2]\n",
        "  print(array)\n",
        "\n",
        "x=int(input(\"Enter the array index1: \"))\n",
        "y=int(input(\"Enter the array index2: \"))\n",
        "z=int(input(\"Enter the array index3: \"))\n",
        "ary=array('i',[100,110,120,130,140,150,160,170,180,190,200])\n",
        "swap3(ary,x,y,z)"
      ],
      "metadata": {
        "colab": {
          "base_uri": "https://localhost:8080/"
        },
        "id": "ckTq2QaT0lBa",
        "outputId": "d4616ef1-1d2c-477a-94f3-87259ac8c78d"
      },
      "execution_count": null,
      "outputs": [
        {
          "output_type": "stream",
          "name": "stdout",
          "text": [
            "Enter the array index1: 2\n",
            "Enter the array index2: 3\n",
            "Enter the array index3: 4\n",
            "array('i', [100, 110, 140, 120, 130, 150, 160, 170, 180, 190, 200])\n"
          ]
        }
      ]
    },
    {
      "cell_type": "markdown",
      "source": [
        "###SPLITTING ARRAY\n",
        "###15. Write a program to split an array."
      ],
      "metadata": {
        "id": "fO_Ll1AhS4qz"
      }
    },
    {
      "cell_type": "code",
      "source": [
        "import array\n",
        "from array import *\n",
        "ary1=array('i',[110,111,112,113,114,115,116,117,118,119])\n",
        "b=ary1[0:5]\n",
        "c=ary1[5:10]\n",
        "print(b)\n",
        "print(c)"
      ],
      "metadata": {
        "colab": {
          "base_uri": "https://localhost:8080/"
        },
        "id": "A6j89Qas5PNO",
        "outputId": "61f52eb7-9fc4-44f4-b871-a5215b232e18"
      },
      "execution_count": null,
      "outputs": [
        {
          "output_type": "stream",
          "name": "stdout",
          "text": [
            "array('i', [110, 111, 112, 113, 114])\n",
            "array('i', [115, 116, 117, 118, 119])\n"
          ]
        }
      ]
    },
    {
      "cell_type": "markdown",
      "source": [
        "###16. Write a program to split an array using user defined function."
      ],
      "metadata": {
        "id": "6P17mK9WTFpY"
      }
    },
    {
      "cell_type": "code",
      "source": [
        "import array\n",
        "from array import *\n",
        "def split(array):\n",
        "  n=len(array)//2\n",
        "  s1=array[0:n]\n",
        "  s2=array[n:]\n",
        "  print(s1)\n",
        "  print(s2)\n",
        "ary2=array('i',[111,112,113,114,115,116,117,118,119,120,121,122,123,124,125,126,127,128,129,130])\n",
        "split(ary2)"
      ],
      "metadata": {
        "colab": {
          "base_uri": "https://localhost:8080/"
        },
        "id": "a8S6x9DM8W-H",
        "outputId": "0d53d93e-ccca-452b-938c-8444c38e1e1f"
      },
      "execution_count": null,
      "outputs": [
        {
          "output_type": "stream",
          "name": "stdout",
          "text": [
            "array('i', [111, 112, 113, 114, 115, 116, 117, 118, 119, 120])\n",
            "array('i', [121, 122, 123, 124, 125, 126, 127, 128, 129, 130])\n"
          ]
        }
      ]
    },
    {
      "cell_type": "markdown",
      "source": [
        "###17. Give a python code to swap two numbers of an array if they are not in accending order."
      ],
      "metadata": {
        "id": "XOj8Ns9mTVap"
      }
    },
    {
      "cell_type": "code",
      "source": [
        "import array\n",
        "from array import *\n",
        "def aswp(array,no1,no2):\n",
        "  if array[no1]>array[no2]:\n",
        "    array[no1],array[no2]=array[no2],array[no1]\n",
        "  print(\"Array is:\",array)\n",
        "a=int(input(\"Enter first index: \"))\n",
        "b=int(input(\"Enter second index: \"))\n",
        "ary1=array('i',[111,888,555,444,999,777,666,222,333])\n",
        "aswp(ary1,a,b)"
      ],
      "metadata": {
        "id": "tDxkN6XdBHWO",
        "colab": {
          "base_uri": "https://localhost:8080/"
        },
        "outputId": "f03de3e5-a489-4616-e8f3-c9c4ba36817c"
      },
      "execution_count": null,
      "outputs": [
        {
          "output_type": "stream",
          "name": "stdout",
          "text": [
            "Enter first index: 2\n",
            "Enter second index: 6\n",
            "Array is: array('i', [111, 888, 555, 444, 999, 777, 666, 222, 333])\n"
          ]
        }
      ]
    },
    {
      "cell_type": "markdown",
      "source": [
        "###18. Give a python code to swap any one number"
      ],
      "metadata": {
        "id": "Q_tK5KMFTe08"
      }
    },
    {
      "cell_type": "code",
      "source": [
        "import array\n",
        "from array import *\n",
        "def aswp(array):\n",
        "  n=len(array)\n",
        "  for x in range(n-1):\n",
        "      if array[x]>array[x+1]:\n",
        "        array[x],array[x+1]=array[x+1],array[x]\n",
        "  print(\"Array is:\",array)\n",
        "ary1=array('i',[5,4,3,2,1])\n",
        "aswp(ary1)"
      ],
      "metadata": {
        "colab": {
          "base_uri": "https://localhost:8080/"
        },
        "id": "09O78vmtl_0u",
        "outputId": "918f3a48-ace4-4b7b-fed5-f96343640eaf"
      },
      "execution_count": null,
      "outputs": [
        {
          "output_type": "stream",
          "name": "stdout",
          "text": [
            "Array is: array('i', [4, 3, 2, 1, 5])\n"
          ]
        }
      ]
    },
    {
      "cell_type": "markdown",
      "source": [
        "#**BUBBLE SORTING**\n",
        "##Advantages and Disadvantages of Bubble Sorting:\n",
        "\n",
        "**Advantages:** Bubble sort's simplicity and stability make it an accessible choice for learning sorting algorithms, especially for beginners. Its straightforward logic of comparing adjacent elements and swapping them if necessary is easy to grasp. Moreover, operating directly on the original list without requiring additional memory enhances its efficiency in terms of memory usage.\n",
        "\n",
        "**Disadvantages:** Despite its simplicity, bubble sort's efficiency diminishes significantly with large datasets due to its quadratic time complexity. Its lack of adaptability, performing the same number of comparisons and swaps regardless of the initial state of the list, leads to wasted computational effort, particularly on nearly sorted datasets. These limitations make it less practical for real-world applications where sorting efficiency is crucial.\n",
        "\n",
        "\n",
        "\n"
      ],
      "metadata": {
        "id": "5uVoz5vTf6pl"
      }
    },
    {
      "cell_type": "markdown",
      "source": [
        "###1. Write a program to sort the array using bubble sort algorith (pairwise sorting) In ascending order"
      ],
      "metadata": {
        "id": "qEbMxm-rgWJF"
      }
    },
    {
      "cell_type": "code",
      "source": [
        "import array\n",
        "from array import *\n",
        "def abs(array):\n",
        "  n=len(array)\n",
        "  for x in range(n):\n",
        "    for y in range(n-x-1):\n",
        "      if array[y]>array[y+1]:\n",
        "        array[y],array[y+1]=array[y+1],array[y]\n",
        "  print(\"Array is:\",array)\n",
        "ary1=array('i',[8,6,4,3])\n",
        "abs(ary1)"
      ],
      "metadata": {
        "colab": {
          "base_uri": "https://localhost:8080/"
        },
        "id": "UyX3NTwigUVl",
        "outputId": "17d38de6-7187-4736-e954-b2384ae2b1ab"
      },
      "execution_count": null,
      "outputs": [
        {
          "output_type": "stream",
          "name": "stdout",
          "text": [
            "Array is: array('i', [3, 4, 6, 8])\n"
          ]
        }
      ]
    },
    {
      "cell_type": "markdown",
      "source": [
        "###2. Write a program to sort the array using bubble sort algorith (pairwise sorting) in descending order"
      ],
      "metadata": {
        "id": "b2PXTdUBgcGU"
      }
    },
    {
      "cell_type": "code",
      "source": [
        "import array\n",
        "from array import *\n",
        "def abs(array):\n",
        "  n=len(array)\n",
        "  for x in range(n):\n",
        "    for y in range(n-x-1):\n",
        "      if array[y]<array[y+1]:\n",
        "        array[y],array[y+1]=array[y+1],array[y]\n",
        "  print(\"Array is:\",array)\n",
        "ary1=array('i',[2,4,6,8,10,12,14,16,18,20])\n",
        "abs(ary1)"
      ],
      "metadata": {
        "colab": {
          "base_uri": "https://localhost:8080/"
        },
        "id": "G-LFafsRgZxl",
        "outputId": "a6747783-458d-46ad-f30c-b84976c5bd37"
      },
      "execution_count": null,
      "outputs": [
        {
          "output_type": "stream",
          "name": "stdout",
          "text": [
            "Array is: array('i', [20, 18, 16, 14, 12, 10, 8, 6, 4, 2])\n"
          ]
        }
      ]
    },
    {
      "cell_type": "markdown",
      "source": [
        "###3. Consider an array consisting of 20 integers. Split the array into two equal parts and arrange each sub parts in ascending order. Join back the two sub arrays."
      ],
      "metadata": {
        "id": "EtB0XQawgpY0"
      }
    },
    {
      "cell_type": "code",
      "source": [
        "import array\n",
        "from array import *\n",
        "def abs(array):\n",
        "  n=len(array)//2\n",
        "  sp1=array[0:n]\n",
        "  sp2=array[n:]\n",
        "  n1=len(sp1)\n",
        "  n2=len(sp2)\n",
        "  for x in range(n1):\n",
        "    for y in range(n1-x-1):\n",
        "      if sp1[y]>sp1[y+1]:\n",
        "        sp1[y],sp1[y+1]=sp1[y+1],sp1[y]\n",
        "  print(\"Ascending order of first half split: \",sp1)\n",
        "\n",
        "  for i in range(n2):\n",
        "    for j in range(n2-i-1):\n",
        "      if sp2[j]>sp2[j+1]:\n",
        "        sp2[j],sp2[j+1]=sp2[j+1],sp2[j]\n",
        "  print(\"Ascending order of second half split: \",sp2)\n",
        "  sp1.extend(sp2)\n",
        "  print(\"Joined array: \",sp1)\n",
        "ary1=array('i',[25,34,49,11,99,10,16,129,44,74])\n",
        "abs(ary1)"
      ],
      "metadata": {
        "colab": {
          "base_uri": "https://localhost:8080/"
        },
        "id": "-vnXSUCbgnME",
        "outputId": "fc270300-0a50-4084-e77e-841245c782a8"
      },
      "execution_count": null,
      "outputs": [
        {
          "output_type": "stream",
          "name": "stdout",
          "text": [
            "Ascending order of first half split:  array('i', [11, 25, 34, 49, 99])\n",
            "Ascending order of second half split:  array('i', [10, 16, 44, 74, 129])\n",
            "Joined array:  array('i', [11, 25, 34, 49, 99, 10, 16, 44, 74, 129])\n"
          ]
        }
      ]
    },
    {
      "cell_type": "markdown",
      "source": [
        "###4. Consider an array of 20 integers arrange the array in descending order split the array into two equal parts."
      ],
      "metadata": {
        "id": "JdcSsxo5g6L8"
      }
    },
    {
      "cell_type": "code",
      "source": [
        "import array\n",
        "from array import *\n",
        "def ds(array):\n",
        "  n=len(array)\n",
        "  for i in range(n):\n",
        "    for j in range(n-i-1):\n",
        "      if array[j]>array[j+1]:\n",
        "        array[j],array[j+1]=array[j+1],array[j]\n",
        "  print(\"Array in ascending order:\",array)\n",
        "  n=n//2\n",
        "  sp1=array[0:n]\n",
        "  sp2=array[n:]\n",
        "  print(\"First half split:\",sp1)\n",
        "  print(\"Second half split:\",sp2)\n",
        "ary1=array('i',[25,34,49,11,99,10,16,129,44,74])\n",
        "ds(ary1)"
      ],
      "metadata": {
        "colab": {
          "base_uri": "https://localhost:8080/"
        },
        "id": "wl8gqluNgv8E",
        "outputId": "5abce0d6-de82-4845-d544-95e9926cbf2b"
      },
      "execution_count": null,
      "outputs": [
        {
          "output_type": "stream",
          "name": "stdout",
          "text": [
            "Array in ascending order: array('i', [10, 11, 16, 25, 34, 44, 49, 74, 99, 129])\n",
            "First half split: array('i', [10, 11, 16, 25, 34])\n",
            "Second half split: array('i', [44, 49, 74, 99, 129])\n"
          ]
        }
      ]
    },
    {
      "cell_type": "markdown",
      "source": [
        "###5. Write a python program to create reverse bubble sort that can be applied on arrays."
      ],
      "metadata": {
        "id": "0srlE8QehFvs"
      }
    },
    {
      "cell_type": "code",
      "source": [
        "import array\n",
        "from array import *\n",
        "def rev(array):\n",
        "    n=len(array)\n",
        "    for x in range(n-1,0,-1):\n",
        "      for y in range(n-1,n-x-1,-1):\n",
        "        if array[y]>array[y-1]:\n",
        "          array[y-1],array[y]=array[y],array[y-1]\n",
        "    print(\"Reverse array is:\",array)\n",
        "ary1=array('i',[25,34,45,66])\n",
        "rev(ary1)"
      ],
      "metadata": {
        "colab": {
          "base_uri": "https://localhost:8080/"
        },
        "id": "9-FxsmVXg_Kk",
        "outputId": "5a238d6b-8c97-460b-b16f-5f409d4c4996"
      },
      "execution_count": null,
      "outputs": [
        {
          "output_type": "stream",
          "name": "stdout",
          "text": [
            "Reverse array is: array('i', [66, 45, 34, 25])\n"
          ]
        }
      ]
    },
    {
      "cell_type": "markdown",
      "source": [
        "#**INSERTION SORT**\n",
        "##Advantages and Disadvantages of Insertion Sorting\n",
        "\n",
        "**Advantages:**\n",
        "\n",
        "Insertion sort offers simplicity as its main advantage. It's easy to understand and implement, making it ideal for educational purposes or scenarios where straightforward code is preferred. Additionally, insertion sort performs efficiently on small datasets or nearly sorted lists, often outperforming more complex algorithms in these cases. Its in-place sorting nature means it rearranges elements within the original array without requiring extra memory space, making it memory efficient. Furthermore, insertion sort is adaptive, meaning it can efficiently handle partially sorted lists, adjusting its behavior accordingly and potentially reducing the number of comparisons and swaps needed. These advantages make insertion sort a suitable choice for certain scenarios where simplicity and efficiency with small datasets are prioritized.\n",
        "\n",
        "**Disadvantages:**\n",
        "\n",
        "Insertion sort's main disadvantage lies in its time complexity of algorithms, making it inefficient for large datasets compared to algorithms like merge sort or quicksort. It struggles particularly with reverse-ordered lists, requiring numerous comparisons and swaps. Moreover, its lack of inherent parallelism limits its scalability on modern architectures. Despite its simplicity, these drawbacks make it less favorable for larger or more complex sorting tasks.\n",
        "\n",
        "\n",
        "\n"
      ],
      "metadata": {
        "id": "A3DDadx-hTeM"
      }
    },
    {
      "cell_type": "markdown",
      "source": [
        "###1. Write a program to sort the array using insertion sort algorithm in ascending order.\n"
      ],
      "metadata": {
        "id": "nbSMUQO_icj9"
      }
    },
    {
      "cell_type": "code",
      "source": [
        "import array\n",
        "from array import *\n",
        "def ins(array):\n",
        "  n=len(array)\n",
        "  for i in range(1,n):\n",
        "    j=i\n",
        "    while j>0 and array[j-1]>array[j]:\n",
        "      array[j-1],array[j]=array[j],array[j-1]\n",
        "      j=j-1\n",
        "  print(\"Sorted array is:\",array)\n",
        "\n",
        "ary1=array('i',[5,4,8,1,2])\n",
        "ins(ary1)"
      ],
      "metadata": {
        "colab": {
          "base_uri": "https://localhost:8080/"
        },
        "id": "3WSGYb7xhMsE",
        "outputId": "372a484d-8713-4f22-bff6-e27773bc05e0"
      },
      "execution_count": null,
      "outputs": [
        {
          "output_type": "stream",
          "name": "stdout",
          "text": [
            "Sorted array is: array('i', [1, 2, 4, 5, 8])\n"
          ]
        }
      ]
    },
    {
      "cell_type": "markdown",
      "source": [
        "###2. Write a program to sort the array using insertion sort algorithm in descending order."
      ],
      "metadata": {
        "id": "dQlWjzkQihDb"
      }
    },
    {
      "cell_type": "code",
      "source": [
        "import array\n",
        "from array import *\n",
        "def ins(array):\n",
        "  n=len(array)\n",
        "  for i in range(1,n):\n",
        "    j=i\n",
        "    while j>0 and array[j-1]<array[j]:\n",
        "      array[j-1],array[j]=array[j],array[j-1]\n",
        "      j=j-1\n",
        "  print(\"Sorted array is:\",array)\n",
        "\n",
        "ary1=array('i',[5,4,8,1,2])\n",
        "ins(ary1)"
      ],
      "metadata": {
        "colab": {
          "base_uri": "https://localhost:8080/"
        },
        "id": "VBTWnGwCigZU",
        "outputId": "bafe3d07-1d33-48bc-d83e-8a494053e814"
      },
      "execution_count": null,
      "outputs": [
        {
          "output_type": "stream",
          "name": "stdout",
          "text": [
            "Sorted array is: array('i', [8, 5, 4, 2, 1])\n"
          ]
        }
      ]
    },
    {
      "cell_type": "markdown",
      "source": [
        "###3. Prepare an array of 15 number split the array into two parts. Sort the first part using bubble sort and the second part using insetion sort."
      ],
      "metadata": {
        "id": "WYHParQiirBE"
      }
    },
    {
      "cell_type": "code",
      "source": [
        "import numpy as np\n",
        "import array\n",
        "from array import *\n",
        "def sort(array):\n",
        "  print(\"Original array:\",array)\n",
        "  n=len(array)//2\n",
        "  s1=array[0:n]\n",
        "  s2=array[n:]\n",
        "  print(\"First half array:\",s1)\n",
        "  print(\"Second half array:\",s2)\n",
        "  n1=len(s1)\n",
        "  n2=len(s2)\n",
        "  for x in range(n1):\n",
        "    for y in range(n1-x-1):\n",
        "      if s1[y]>s1[y+1]:\n",
        "        s1[y],s1[y+1]=s1[y+1],s1[y]\n",
        "  print(\"Sorted first part using Bubble sort:\",s1)\n",
        "  for i in range(1,n2):\n",
        "    j=i\n",
        "    while j>0 and s2[j-1]>s2[j]:\n",
        "      s2[j-1],s2[j]=s2[j],s2[j-1]\n",
        "      j=j-1\n",
        "  print(\"Sorted second part using Insertion sort:\",s2)\n",
        "\n",
        "ary=np.array([66,24,59,87,94,56,22,31,10,45,78,93])\n",
        "sort(ary)"
      ],
      "metadata": {
        "colab": {
          "base_uri": "https://localhost:8080/"
        },
        "id": "gnxRTf1nimxz",
        "outputId": "821296d3-84a5-4598-d1e3-902ba7b12f00"
      },
      "execution_count": null,
      "outputs": [
        {
          "output_type": "stream",
          "name": "stdout",
          "text": [
            "Original array: [66 24 59 87 94 56 22 31 10 45 78 93]\n",
            "First half array: [66 24 59 87 94 56]\n",
            "Second half array: [22 31 10 45 78 93]\n",
            "Sorted first part using Bubble sort: [24 56 59 66 87 94]\n",
            "Sorted second part using Insertion sort: [10 22 31 45 78 93]\n"
          ]
        }
      ]
    },
    {
      "cell_type": "markdown",
      "source": [
        "#**SELECTION SORT**\n",
        "##Advantages and Disadvantages of Selection Sorting\n",
        "\n",
        "**Advantages:**\n",
        "\n",
        "Selection sort is a straightforward sorting algorithm commonly used in Python due to its simplicity. One of its main advantages is its simplicity in implementation. The algorithm divides the input list into a sorted and an unsorted region, iteratively selecting the smallest (or largest, depending on the order) element from the unsorted region and placing it at the end of the sorted region. This process continues until the entire list is sorted. The simplicity of selection sort makes it easy to understand and implement, especially for beginners or in scenarios where a quick and simple sorting solution is needed.\n",
        "\n",
        "**Disadvantages:**\n",
        "\n",
        "Selection sort has several disadvantages that limit its efficiency and practicality for large datasets. One major drawback is its time complexity. Selection sort has a time complexity making it highly inefficient for large lists. As the size of the input increases, the number of comparisons and swaps also increases quadratically, resulting in significant performance degradation compared to more efficient sorting algorithms like merge sort or quicksort. Additionally, selection sort is not stable, meaning it does not preserve the relative order of equal elements. This lack of stability can be problematic in certain applications where maintaining the original order of equal elements is important. Overall, while selection sort is easy to implement and understand, its inefficiency and lack of stability make it less suitable for sorting large datasets or in situations where performance is critical."
      ],
      "metadata": {
        "id": "u9OMMM9WwANA"
      }
    },
    {
      "cell_type": "markdown",
      "source": [
        "###1. Write a program to sort an array using selection sorting."
      ],
      "metadata": {
        "id": "F4ALsYzLxO1I"
      }
    },
    {
      "cell_type": "code",
      "source": [
        "import numpy as np\n",
        "import array\n",
        "from array import *\n",
        "def selection_sort(array):\n",
        "  n=len(array)\n",
        "  for i in range(n):\n",
        "    cm=i\n",
        "    for j in range(i+1,n):\n",
        "      if array[j]<array[cm]:\n",
        "        cm=j\n",
        "    array[i],array[cm]=array[cm],array[i]\n",
        "  print(\"Sorted array:\",array)\n",
        "\n",
        "ary=np.array([5,2,6,7,9,4,1,3])\n",
        "selection_sort(ary)"
      ],
      "metadata": {
        "id": "aEb0NZGmiu7z",
        "colab": {
          "base_uri": "https://localhost:8080/"
        },
        "outputId": "44b55c5d-8ea3-447e-c2f1-a407a688e752"
      },
      "execution_count": null,
      "outputs": [
        {
          "output_type": "stream",
          "name": "stdout",
          "text": [
            "Sorted array: [1 2 3 4 5 6 7 9]\n"
          ]
        }
      ]
    },
    {
      "cell_type": "markdown",
      "source": [
        "#**DIVIDE AND CONQUER**\n",
        "\n",
        "###**Advantage:**\n",
        "\n",
        "The divide and conquer technique in Python provides efficient solutions by breaking down complex problems into smaller, more manageable subproblems. This approach often leads to faster execution times compared to other methods, as it allows for focused solving of smaller chunks independently before combining them. Additionally, divide and conquer algorithms facilitate parallelism, enabling concurrent solving of subproblems for potential performance gains, especially on multi-core or distributed systems. The simplicity of this paradigm is another advantage, making solutions more elegant and easier to understand by decomposing the problem into smaller, more tractable parts. Moreover, these algorithms scale well, efficiently handling larger inputs without a significant increase in runtime, and can often be further optimized using techniques like memoization or dynamic programming.\n",
        "\n",
        "###**Disadvantage:**\n",
        "\n",
        "Divide and conquer algorithms use recursion, leading to significant overhead in terms of stack space and function calls. They are most effective for problems that can be recursively divided into smaller subproblems. These algorithms can require a significant amount of memory, creating multiple copies of the input data. The time and space complexity can be challenging to analyze, especially for complex problems."
      ],
      "metadata": {
        "id": "oNuqVGmd0dC_"
      }
    },
    {
      "cell_type": "markdown",
      "source": [
        "###1. Write a program to sort an array using divide and conquer technique."
      ],
      "metadata": {
        "id": "LhFCAlkix4q2"
      }
    },
    {
      "cell_type": "code",
      "source": [
        "#Only used divide and conquer(not sorted)\n",
        "def divide_array(array):\n",
        "    midpoint = len(array) // 2\n",
        "    left_half = array[:midpoint]\n",
        "    right_half = array[midpoint:]\n",
        "    return left_half, right_half\n",
        "\n",
        "def iterate_divide(array):\n",
        "    divided_array = [array]  # Start with the whole array as the only element in the list\n",
        "    while any(len(subarray) > 1 for subarray in divided_array):\n",
        "        new_divided_array = []\n",
        "        for subarray in divided_array:\n",
        "            if len(subarray) > 1:\n",
        "                left_half, right_half = divide_array(subarray)\n",
        "                new_divided_array.append(left_half)\n",
        "                new_divided_array.append(right_half)\n",
        "            else:\n",
        "                new_divided_array.append(subarray)  # Already a single-element subarray\n",
        "        divided_array = new_divided_array\n",
        "    return divided_array\n",
        "\n",
        "def join_array(array):\n",
        "  joined_array=[]\n",
        "  for [element] in array:\n",
        "    joined_array.append(element)\n",
        "  return joined_array\n",
        "\n",
        "array = [12,11,13,5,6,7]\n",
        "result1 = iterate_divide(array)\n",
        "print(result1)\n",
        "result2 = join_array(result1)\n",
        "print(result2)"
      ],
      "metadata": {
        "colab": {
          "base_uri": "https://localhost:8080/"
        },
        "id": "0AxmPQH0xcsh",
        "outputId": "3b959540-ae7c-4381-d2d7-1c5ea5ed6e88"
      },
      "execution_count": null,
      "outputs": [
        {
          "output_type": "stream",
          "name": "stdout",
          "text": [
            "[[12], [11], [13], [5], [6], [7]]\n",
            "[12, 11, 13, 5, 6, 7]\n"
          ]
        }
      ]
    },
    {
      "cell_type": "code",
      "source": [
        "#sort using divide and conquer\n",
        "\n",
        "def merge_sort(a, n):\n",
        "   if n > 1:\n",
        "      m = n // 2\n",
        "      #divide the list in two sub lists\n",
        "      l1 = a[:m]\n",
        "      n1 = len(l1)\n",
        "      l2 = a[m:]\n",
        "      n2 = len(l2)\n",
        "      #recursively calling the function for sub lists\n",
        "      merge_sort(l1, n1)\n",
        "      merge_sort(l2, n2)\n",
        "      i = j = k = 0\n",
        "      while i < n1 and j < n2:\n",
        "         if l1[i] <= l2[j]:\n",
        "            a[k] = l1[i]\n",
        "            i = i + 1\n",
        "         else:\n",
        "            a[k] = l2[j]\n",
        "            j = j + 1\n",
        "         k = k + 1\n",
        "      while i < n1:\n",
        "         a[k] = l1[i]\n",
        "         i = i + 1\n",
        "         k = k + 1\n",
        "      while j < n2:\n",
        "         a[k]=l2[j]\n",
        "         j = j + 1\n",
        "         k = k + 1\n",
        "\n",
        "a = [12,11,13,5,6,7]\n",
        "n = len(a)\n",
        "print(\"Array before Sorting\")\n",
        "print(a)\n",
        "merge_sort(a, n)\n",
        "print(\"Array after Sorting\")\n",
        "print(a)"
      ],
      "metadata": {
        "id": "yKotvmFwuvMK",
        "colab": {
          "base_uri": "https://localhost:8080/"
        },
        "outputId": "298d7cd8-dfec-44c6-c1f2-c237d18ad387"
      },
      "execution_count": null,
      "outputs": [
        {
          "output_type": "stream",
          "name": "stdout",
          "text": [
            "Array before Sorting\n",
            "[12, 11, 13, 5, 6, 7]\n",
            "Array after Sorting\n",
            "[5, 6, 7, 11, 12, 13]\n"
          ]
        }
      ]
    },
    {
      "cell_type": "markdown",
      "source": [
        "#**LINEAR SEARCH**\n",
        "\n",
        "###**Advantages:**\n",
        "\n",
        "Linear search is straightforward to understand and implement. It involves sequentially checking each element in a list or array until a match is found. In specific scenarios, linear search can provide an immediate answer with constant time complexity. For instance, if the desired element is the first one in the list. Linear search doesn’t require extra memory beyond the original data structure, making it suitable for situations with memory constraints. When dealing with a small number of elements (e.g., less than 512), linear search performs adequately. Linear search can handle arrays, linked lists, or other structures that allow sequential access. Adding or deleting elements doesn’t significantly impact the linear search algorithm.\n",
        "\n",
        "###**Disadvantages:**\n",
        "\n",
        "Linear search always traverses the entire dataset, which becomes inefficient for large datasets. If the desired element is near the end of the list, it takes longer to find. Linear search doesn’t take advantage of sorted data. Binary search is more appropriate for sorted lists. If the same search operation is performed frequently, linear search isn’t the optimal choice."
      ],
      "metadata": {
        "id": "UKvnXSqiOjps"
      }
    },
    {
      "cell_type": "markdown",
      "source": [
        "###Write a program to search a number using linear search technique."
      ],
      "metadata": {
        "id": "nN5SQNz_3h3F"
      }
    },
    {
      "cell_type": "code",
      "source": [
        "import numpy as np\n",
        "\n",
        "ary = np.array([5, 10, 8, 6, 2, 3, 7])\n",
        "target = int(input('Enter any number: '))\n",
        "\n",
        "for i in ary:\n",
        "  if i == target:\n",
        "    print('Element found')\n",
        "    break\n",
        "else:\n",
        "  print('Element not found')"
      ],
      "metadata": {
        "colab": {
          "base_uri": "https://localhost:8080/"
        },
        "id": "WW7e1mrDhjUF",
        "outputId": "df521311-1ef2-4806-dc8f-d7860e6fee27"
      },
      "execution_count": null,
      "outputs": [
        {
          "output_type": "stream",
          "name": "stdout",
          "text": [
            "Enter any number: 2\n",
            "Element found\n"
          ]
        }
      ]
    },
    {
      "cell_type": "markdown",
      "source": [
        "#**BINARY SEARCH**\n",
        "\n",
        "###**Advantages:**\n",
        "\n",
        "Binary search has a time complexity of O(log n), making it highly efficient for searching large sorted arrays. It’s like finding a needle in a haystack with a laser pointer.The algorithm’s divide-and-conquer approach is elegantly simple. It’s as if binary search whispers, “Divide, conquer, repeat.” Binary search plays well in various applications—sorted arrays, database queries, and even as a starting point for other search algorithms. If the target element exists, binary search will find it. No vanishing acts or false alarms.\n",
        "\n",
        "###**Disadvantages:**\n",
        "\n",
        "Binary search insists on a sorted array. If chaos reigns, it sulks in the corner, waiting for order. It won’t work efficiently on unsorted data. Imagine asking a librarian to find a book in a jumbled pile. For massive arrays (think billions of elements), other algorithms might outperform binary search. Sometimes, a sledgehammer isn’t necessary."
      ],
      "metadata": {
        "id": "736arNM0hiIW"
      }
    },
    {
      "cell_type": "markdown",
      "source": [
        "###Write a program to search a number using binary search technique."
      ],
      "metadata": {
        "id": "QK6gLW-t3Jhe"
      }
    },
    {
      "cell_type": "code",
      "source": [
        "import numpy as np\n",
        "def binary_sort(array,k):\n",
        "  b=0\n",
        "  e=len(array)-1\n",
        "  while b<=e:\n",
        "    mid=(b+e)//2\n",
        "    if array[mid]==k:\n",
        "      return mid\n",
        "    elif array[mid]<k:\n",
        "      b=mid+1\n",
        "    elif array[mid]>k:\n",
        "      e=mid-1\n",
        "  else:\n",
        "    print('Not Found')\n",
        "\n",
        "ary=np.array([32,46,54,61,70,79,84,91,101])\n",
        "k=int(input('Enter the number: '))\n",
        "binary_sort(ary,k)"
      ],
      "metadata": {
        "id": "n00EASxvQ_U7",
        "colab": {
          "base_uri": "https://localhost:8080/"
        },
        "outputId": "59fb359a-c449-4ce0-de61-0626aa3842be"
      },
      "execution_count": null,
      "outputs": [
        {
          "name": "stdout",
          "output_type": "stream",
          "text": [
            "Enter the number: 54\n"
          ]
        },
        {
          "output_type": "execute_result",
          "data": {
            "text/plain": [
              "2"
            ]
          },
          "metadata": {},
          "execution_count": 1
        }
      ]
    },
    {
      "cell_type": "markdown",
      "source": [
        "###Question: Write a python program to search the smallest element in the array."
      ],
      "metadata": {
        "id": "QNoScUfBbclI"
      }
    },
    {
      "cell_type": "code",
      "source": [
        "#Method 1:\n",
        "import numpy as np\n",
        "\n",
        "def smallest(array):\n",
        "  small=array[0]\n",
        "  n=len(array)\n",
        "  for i in range(1,n-1):\n",
        "    if array[i]<small:\n",
        "      small=array[i]\n",
        "  print(\"The smallest number in the array is:\",small)\n",
        "ary=np.array([98,55,72,100,45,150,15,82,39,120])\n",
        "smallest(ary)"
      ],
      "metadata": {
        "colab": {
          "base_uri": "https://localhost:8080/"
        },
        "id": "bHi3ix89Vsif",
        "outputId": "c0fbf426-31ec-43c2-df5c-90c2bdf3f224"
      },
      "execution_count": null,
      "outputs": [
        {
          "output_type": "stream",
          "name": "stdout",
          "text": [
            "The smallest number in the array is: 15\n"
          ]
        }
      ]
    },
    {
      "cell_type": "code",
      "source": [
        "#Method 2:\n",
        "import numpy as np\n",
        "\n",
        "def smallest(array):\n",
        "  n=len(array)\n",
        "  for i in range(n):\n",
        "    for j in range(n-i-1):\n",
        "      if array[j]>array[j+1]:\n",
        "        array[j],array[j+1]=array[j+1],array[j]\n",
        "  small=array[0]\n",
        "  print('The Smallest number of the array is:',small)\n",
        "\n",
        "ary=np.array([98,55,72,100,45,39,15,82,125,150])\n",
        "smallest(ary)"
      ],
      "metadata": {
        "colab": {
          "base_uri": "https://localhost:8080/"
        },
        "id": "uByk5BMQdaC6",
        "outputId": "1bc7c9e4-e699-437d-b3ad-b0e648cc1e57"
      },
      "execution_count": null,
      "outputs": [
        {
          "output_type": "stream",
          "name": "stdout",
          "text": [
            "The Smallest number of the array is: 15\n"
          ]
        }
      ]
    },
    {
      "cell_type": "code",
      "source": [
        "#Method 3:\n",
        "import numpy as np\n",
        "\n",
        "ary=np.array([98,55,72,100,45,39,15,82,125,150])\n",
        "small= min(ary)\n",
        "print('The smallest number of the array is:',small)"
      ],
      "metadata": {
        "colab": {
          "base_uri": "https://localhost:8080/"
        },
        "id": "JRUVfgfJexsj",
        "outputId": "ca20f38e-7d5a-4690-8cfa-57df2daf1408"
      },
      "execution_count": null,
      "outputs": [
        {
          "output_type": "stream",
          "name": "stdout",
          "text": [
            "The smallest number of the array is: 15\n"
          ]
        }
      ]
    }
  ]
}